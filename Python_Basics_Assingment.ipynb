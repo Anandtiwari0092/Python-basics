{
  "nbformat": 4,
  "nbformat_minor": 0,
  "metadata": {
    "colab": {
      "provenance": []
    },
    "kernelspec": {
      "name": "python3",
      "display_name": "Python 3"
    },
    "language_info": {
      "name": "python"
    }
  },
  "cells": [
    {
      "cell_type": "markdown",
      "source": [
        "1. what is python and why is so popular ?"
      ],
      "metadata": {
        "id": "x26TpZaYjjrD"
      }
    },
    {
      "cell_type": "code",
      "execution_count": null,
      "metadata": {
        "id": "JEw3xTKujW2Q"
      },
      "outputs": [],
      "source": [
        "# Ans - Python is a programming language, it is like a english code and so versatile and can be use in any plateform like linux, window, mac and many more.\n",
        "# python is popluar becouse it has many libarary according to your need. you can do anything using python like, web development, software making, data cleaning, data visualization,\n",
        "# making application and so much to do. it is easy to learn and use. it used by million of developers across the globe.\n",
        ""
      ]
    },
    {
      "cell_type": "markdown",
      "source": [
        "2. interprator in Python"
      ],
      "metadata": {
        "id": "tYWb5qRSnMu3"
      }
    },
    {
      "cell_type": "code",
      "source": [
        "# Ans - interprator is programm that run the python code line by line and than execute. it compile the code into bytecode and send to python virtual machine."
      ],
      "metadata": {
        "id": "35tfuUCUnwZu"
      },
      "execution_count": 2,
      "outputs": []
    },
    {
      "cell_type": "markdown",
      "source": [
        "3. can keyword used as variable name"
      ],
      "metadata": {
        "id": "dGKWnzYHoJF1"
      }
    },
    {
      "cell_type": "code",
      "source": [
        "# Ans - No."
      ],
      "metadata": {
        "id": "3FPtYZTAoR5O"
      },
      "execution_count": null,
      "outputs": []
    },
    {
      "cell_type": "markdown",
      "source": [
        "4. Mutability in Python"
      ],
      "metadata": {
        "id": "ajfYjJrKo1vW"
      }
    },
    {
      "cell_type": "code",
      "source": [
        "#  Ans - The object that can be modify after creation called mutable abject in Python. list, dictinory etc. are mutable objects.\n",
        "# example:\n",
        "my_list = [1, 2, 3]\n",
        "print(my_list)\n",
        "\n",
        "my_list.append(4)\n",
        "print(my_list)"
      ],
      "metadata": {
        "colab": {
          "base_uri": "https://localhost:8080/"
        },
        "id": "Ox8V8cfDo90r",
        "outputId": "5e15eb88-b9d2-49f7-84c1-27216d7f7e02"
      },
      "execution_count": 1,
      "outputs": [
        {
          "output_type": "stream",
          "name": "stdout",
          "text": [
            "[1, 2, 3]\n",
            "[1, 2, 3, 4]\n"
          ]
        }
      ]
    },
    {
      "cell_type": "markdown",
      "source": [
        "5. why list are mutable and tuples are immutable ?"
      ],
      "metadata": {
        "id": "aOIL6X4npxtx"
      }
    },
    {
      "cell_type": "code",
      "source": [
        "# Ans - because python store list are flexible, the memory allow to shrink and add to it but tuples are fixed and rigid so that it is impossible to modify it rather to add new object\n",
        "# we can create a new object."
      ],
      "metadata": {
        "id": "Ncw70191p6jP"
      },
      "execution_count": null,
      "outputs": []
    },
    {
      "cell_type": "markdown",
      "source": [
        "6. Difference between \"==\" and \"is\" Operator"
      ],
      "metadata": {
        "id": "RLCc0xYvq8c6"
      }
    },
    {
      "cell_type": "code",
      "source": [
        "# Ans - \"==\" (equal operator) used to compare values.ValueError\n",
        "#        \"is\" (identity operator.) used to compare memory address."
      ],
      "metadata": {
        "id": "4TLI6-wmsM1a"
      },
      "execution_count": null,
      "outputs": []
    },
    {
      "cell_type": "markdown",
      "source": [
        "7. Logical operator"
      ],
      "metadata": {
        "id": "G6R_9cf6so6i"
      }
    },
    {
      "cell_type": "code",
      "source": [
        "# Logical Operator are used to compare or to combine the conditional statements. very useful in decision making.\n",
        "# there are three type of LOGICAL OPERATORS.\n",
        "# 1. AND - return true whent the condition is true\n",
        "# 2. OR - return the true when one condition is true\n",
        "# 3. NOT - it reverse the result: true become false and false become true."
      ],
      "metadata": {
        "id": "lN4cfMB5s7Te"
      },
      "execution_count": null,
      "outputs": []
    },
    {
      "cell_type": "markdown",
      "source": [
        "8. Typecasting"
      ],
      "metadata": {
        "id": "RGs-KFEBubcC"
      }
    },
    {
      "cell_type": "code",
      "source": [
        "# ANS - Typecasting in python means to convert one data type into another data type.\n",
        "# there are two type of typecasting ->\n",
        "# 1. implicit typecasting - python automatic convert one data type into other.\n",
        "# 2. explicit typecasting - need to convert manually one data type into another."
      ],
      "metadata": {
        "id": "qoOV5j0vukWD"
      },
      "execution_count": null,
      "outputs": []
    },
    {
      "cell_type": "markdown",
      "source": [
        "9. Pre-define keywords."
      ],
      "metadata": {
        "id": "-xmURL0ixRlN"
      }
    },
    {
      "cell_type": "code",
      "source": [
        "# ANS -> some keywords which already has meaning in python and can not use as function, variable name etc.\n",
        "# here is full list of pre-define keywords in python.\n",
        "import keyword\n",
        "print(keyword.kwlist)"
      ],
      "metadata": {
        "colab": {
          "base_uri": "https://localhost:8080/"
        },
        "id": "dUvSw7DxxZPp",
        "outputId": "639d2a0d-e07b-419b-a1da-86e5308585b8"
      },
      "execution_count": 4,
      "outputs": [
        {
          "output_type": "stream",
          "name": "stdout",
          "text": [
            "['False', 'None', 'True', 'and', 'as', 'assert', 'async', 'await', 'break', 'class', 'continue', 'def', 'del', 'elif', 'else', 'except', 'finally', 'for', 'from', 'global', 'if', 'import', 'in', 'is', 'lambda', 'nonlocal', 'not', 'or', 'pass', 'raise', 'return', 'try', 'while', 'with', 'yield']\n"
          ]
        }
      ]
    },
    {
      "cell_type": "markdown",
      "source": [
        "10. Difference between implicit typecasting and explicit typecasting."
      ],
      "metadata": {
        "id": "tCR_M5FXyqB2"
      }
    },
    {
      "cell_type": "code",
      "source": [
        "# 1. implicit typecasting - python automatic convert one data type into other.\n",
        "# 2. explicit typecasting - need to convert manually one data type into another."
      ],
      "metadata": {
        "id": "JVGgDf2Gy7gO"
      },
      "execution_count": null,
      "outputs": []
    },
    {
      "cell_type": "markdown",
      "source": [
        "11. Purpose of Conditional statement  "
      ],
      "metadata": {
        "id": "OaWqyOKJy_BF"
      }
    },
    {
      "cell_type": "code",
      "source": [
        "# ANS -> conditional statement are used in python to taker decision based on the condition. they work from top to bottom checking which give condition is true.\n",
        "# emaple: if \"its raining\", \"take umbrella\" otherwise else: \"wear sunglasses\"."
      ],
      "metadata": {
        "id": "PlulmCSh2vTi"
      },
      "execution_count": null,
      "outputs": []
    },
    {
      "cell_type": "markdown",
      "source": [
        "12. working of elif statement."
      ],
      "metadata": {
        "id": "z8y9ofGn3j9g"
      }
    },
    {
      "cell_type": "code",
      "source": [
        "# ANS -> lets if-elif-else statement syntax:\n",
        "# if conditioncheck1:\n",
        "#     statement1\n",
        "# elif conditioncheck2:\n",
        "#     statement2\n",
        "# elif conditioncheck3:\n",
        "#    statement3\n",
        "# else:\n",
        "#     statement4\n",
        "\n",
        "# working of elif statement :- firt it check if statement is true or false if it false then it goes to elif condition2 if it is also false than it goes to elif condition3 and so on.\n",
        "# if all elif statement find false than it goes to else statement."
      ],
      "metadata": {
        "id": "J2euCMUG3o9x"
      },
      "execution_count": null,
      "outputs": []
    },
    {
      "cell_type": "markdown",
      "source": [
        "13. Difference between for and while loop."
      ],
      "metadata": {
        "id": "CQv7yavi48vZ"
      }
    },
    {
      "cell_type": "code",
      "source": [
        "# ANS -> we use for loop when we know the total steps to follow or know the fixed no. of loops\n",
        "#        we use whilw loop when we don't know the fixed no. of loops."
      ],
      "metadata": {
        "id": "TVl8oUzs5ob1"
      },
      "execution_count": null,
      "outputs": []
    },
    {
      "cell_type": "markdown",
      "source": [
        "14. best senerio where while loop is better than for loop."
      ],
      "metadata": {
        "id": "2ARzy3Xi6DAB"
      }
    },
    {
      "cell_type": "code",
      "source": [
        "# suppose you need to write name again and again for so many person in that case you can use while loop.\n",
        "name = \"\"\n",
        "while name == \"\":\n",
        "  name = input(\"enter the name: \")\n",
        "\n",
        "print(f\"Hello, {name}!\")"
      ],
      "metadata": {
        "colab": {
          "base_uri": "https://localhost:8080/"
        },
        "id": "1cJO-oOZALQl",
        "outputId": "8d512252-af59-4fe9-8955-cc157076b5e8"
      },
      "execution_count": 7,
      "outputs": [
        {
          "output_type": "stream",
          "name": "stdout",
          "text": [
            "enter the name: anand aman \n",
            "Hello, anand aman !\n"
          ]
        }
      ]
    },
    {
      "cell_type": "markdown",
      "source": [
        "# Practicle Question.\n"
      ],
      "metadata": {
        "id": "Z8ZJszxyBhg7"
      }
    },
    {
      "cell_type": "markdown",
      "source": [
        "1. write a code to print \"Hello, World!\""
      ],
      "metadata": {
        "id": "-ZImbReYEyQh"
      }
    },
    {
      "cell_type": "code",
      "source": [
        "# write a programm to print \"Hello, World!\"\n",
        "\n",
        "print(\"Hello, World!\")\n"
      ],
      "metadata": {
        "colab": {
          "base_uri": "https://localhost:8080/"
        },
        "id": "ZvPe_6oHBucr",
        "outputId": "910d0d39-7aca-4a4a-e14c-28e136aeb1ab"
      },
      "execution_count": 8,
      "outputs": [
        {
          "output_type": "stream",
          "name": "stdout",
          "text": [
            "Hello, World!\n"
          ]
        }
      ]
    },
    {
      "cell_type": "markdown",
      "source": [
        "2. program to display you name and age"
      ],
      "metadata": {
        "id": "pDVx1oxtC9Ah"
      }
    },
    {
      "cell_type": "code",
      "source": [
        "# write program to display you name and age\n",
        "\n",
        "name = input(\"Enter your name: \")\n",
        "age = input(\"Enter your age: \")\n",
        "\n",
        "print(\"Name:\", name)\n",
        "print(\"Age:\", age)\n"
      ],
      "metadata": {
        "colab": {
          "base_uri": "https://localhost:8080/"
        },
        "id": "QXYIRd46DDFR",
        "outputId": "47f749ed-83c3-4092-f451-e60745b02d94"
      },
      "execution_count": 9,
      "outputs": [
        {
          "output_type": "stream",
          "name": "stdout",
          "text": [
            "Enter your name: Anand\n",
            "Enter your age: 26\n",
            "Name: Anand\n",
            "Age: 26\n"
          ]
        }
      ]
    },
    {
      "cell_type": "markdown",
      "source": [
        "3. to print all keyword"
      ],
      "metadata": {
        "id": "2UAAR5RnDSqZ"
      }
    },
    {
      "cell_type": "code",
      "source": [
        "# to print all keyword\n",
        "import keyword\n",
        "print(keyword.kwlist)"
      ],
      "metadata": {
        "colab": {
          "base_uri": "https://localhost:8080/"
        },
        "id": "k1FapU05DaLV",
        "outputId": "68505b44-9d85-40f7-d33c-27f658807744"
      },
      "execution_count": 10,
      "outputs": [
        {
          "output_type": "stream",
          "name": "stdout",
          "text": [
            "['False', 'None', 'True', 'and', 'as', 'assert', 'async', 'await', 'break', 'class', 'continue', 'def', 'del', 'elif', 'else', 'except', 'finally', 'for', 'from', 'global', 'if', 'import', 'in', 'is', 'lambda', 'nonlocal', 'not', 'or', 'pass', 'raise', 'return', 'try', 'while', 'with', 'yield']\n"
          ]
        }
      ]
    },
    {
      "cell_type": "markdown",
      "source": [
        "4. to chewck a keyword is keyword or not"
      ],
      "metadata": {
        "id": "gUntFfumDiph"
      }
    },
    {
      "cell_type": "code",
      "source": [
        "import keyword\n",
        "\n",
        "word = input(\"Enter a word: \")\n",
        "\n",
        "if keyword.iskeyword(word):\n",
        "    print(f\"{word} is a keyword.\")\n",
        "else:\n",
        "    print(f\"{word} is not a keyword.\")"
      ],
      "metadata": {
        "colab": {
          "base_uri": "https://localhost:8080/"
        },
        "id": "_l0esE-FDqkJ",
        "outputId": "0de43906-b8d7-4e84-8986-5a2f51c1692e"
      },
      "execution_count": 16,
      "outputs": [
        {
          "output_type": "stream",
          "name": "stdout",
          "text": [
            "Enter a word: link\n",
            "link is not a keyword.\n"
          ]
        }
      ]
    },
    {
      "cell_type": "markdown",
      "source": [
        "5. function to demonstrate mutability and immutability"
      ],
      "metadata": {
        "id": "QgHHbLTkFBp5"
      }
    },
    {
      "cell_type": "code",
      "source": [
        "# mutability\n",
        "my_list = [1, 2, 3]\n",
        "print(my_list)\n",
        "\n",
        "my_list.append(4)\n",
        "print(my_list)\n",
        "\n",
        "# immutability\n",
        "my_string = \"Hello\"\n",
        "print(my_string)\n",
        "\n",
        "my_string += \" World\"\n",
        "print(my_string)"
      ],
      "metadata": {
        "colab": {
          "base_uri": "https://localhost:8080/"
        },
        "id": "Jp7wqAZjFbcV",
        "outputId": "24a242d0-5c38-4c84-95e8-94e9de6c9536"
      },
      "execution_count": 18,
      "outputs": [
        {
          "output_type": "stream",
          "name": "stdout",
          "text": [
            "[1, 2, 3]\n",
            "[1, 2, 3, 4]\n",
            "Hello\n",
            "Hello World\n"
          ]
        }
      ]
    },
    {
      "cell_type": "markdown",
      "source": [
        "6. Program to demonstrat use of logical operator"
      ],
      "metadata": {
        "id": "k0keS2PsF3eR"
      }
    },
    {
      "cell_type": "code",
      "source": [
        "# login access based on age and membership\n",
        "age = int(input(\"enter your age: \"))\n",
        "membership = input(\"Are you member? (yes/no): \").lower() == \"yess\"\n",
        "\n",
        "# using logical AND:\n",
        "if age >= 18 and membership:\n",
        "    print(\"Aap login kar sakte hai.\")\n",
        "else:\n",
        "    print(\"Aap login nahi kar sakte.\")\n",
        "\n",
        "\n",
        "# using logical OR:\n",
        "if age >= 18 or membership:\n",
        "    print(\"Aap login kar sakte hai.\")\n",
        "else:\n",
        "    print(\"Aap login nahi kar sakte.\")\n",
        "\n",
        "\n",
        "# using logical NOT:\n",
        "if not membership:\n",
        "  print(\"Kirpya membership plan puechase kare!\")\n"
      ],
      "metadata": {
        "colab": {
          "base_uri": "https://localhost:8080/"
        },
        "id": "dgeGn-ZnGD89",
        "outputId": "f836c0fe-9c8d-4336-e4bd-826794ad4d1c"
      },
      "execution_count": 20,
      "outputs": [
        {
          "output_type": "stream",
          "name": "stdout",
          "text": [
            "enter your age: 20\n",
            "Are you member? (yes/no): yes\n",
            "Aap login nahi kar sakte.\n",
            "Aap login kar sakte hai.\n",
            "Kirpya membership plan puechase kare!\n"
          ]
        }
      ]
    },
    {
      "cell_type": "markdown",
      "source": [
        "7. convert user input from string to integer, float and boolean type"
      ],
      "metadata": {
        "id": "HAo_0NQCH-Ia"
      }
    },
    {
      "cell_type": "code",
      "source": [
        "user_input = input(\"enter the number: \")\n",
        "\n",
        "# convert to integer\n",
        "integer_value = int(user_input)\n",
        "print(f\"the integer value is,  {integer_value}\")\n",
        "\n",
        "# convert to float:\n",
        "float_value = float(user_input)\n",
        "print(f\"the float value is {float_value}\")\n",
        "\n",
        "# convert to boolean:\n",
        "boolean_value = bool(user_input)\n",
        "print(f\"the boolean value is {boolean_value}\")\n",
        "\n",
        "\n"
      ],
      "metadata": {
        "colab": {
          "base_uri": "https://localhost:8080/"
        },
        "id": "Vv99xdyDMFxe",
        "outputId": "777194e0-ebf9-46a6-d87a-c0af0a0dbbe3"
      },
      "execution_count": 25,
      "outputs": [
        {
          "output_type": "stream",
          "name": "stdout",
          "text": [
            "enter the number: 17\n",
            "the integer value is,  17\n",
            "the float value is 17.0\n",
            "the boolean value is True\n"
          ]
        }
      ]
    },
    {
      "cell_type": "markdown",
      "source": [
        "8. ***typecasting with list values***"
      ],
      "metadata": {
        "id": "Fam6w6OdNr2n"
      }
    },
    {
      "cell_type": "code",
      "source": [
        "my_list = [1, 2, 3, 4, 5]\n",
        "print(my_list)\n",
        "\n",
        "my_list.remove(2)\n",
        "print(my_list)"
      ],
      "metadata": {
        "colab": {
          "base_uri": "https://localhost:8080/"
        },
        "id": "S9UJbHjyN2MC",
        "outputId": "1c4c3c61-1510-4af4-d5e7-fc4f2129c3f9"
      },
      "execution_count": 26,
      "outputs": [
        {
          "output_type": "stream",
          "name": "stdout",
          "text": [
            "[1, 2, 3, 4, 5]\n",
            "[1, 3, 4, 5]\n"
          ]
        }
      ]
    },
    {
      "cell_type": "markdown",
      "source": [
        "9. program to check a number is positive, negative or zero ?"
      ],
      "metadata": {
        "id": "Dq0W6NcFOHjW"
      }
    },
    {
      "cell_type": "code",
      "source": [
        "# program to check a number is positive, negative or zero ?\n",
        "number = float(input(\"Enter a number: \"))\n",
        "\n",
        "if number > 0:\n",
        "    print(\"The number is positive.\")\n",
        "elif number < 0:\n",
        "    print(\"The number is negative.\")\n",
        "else:\n",
        "    print(\"The number is zero.\")"
      ],
      "metadata": {
        "colab": {
          "base_uri": "https://localhost:8080/"
        },
        "id": "0Duh55VhPGVv",
        "outputId": "ad573e4f-72b9-4e8a-cfe5-addfa566e8dd"
      },
      "execution_count": 28,
      "outputs": [
        {
          "output_type": "stream",
          "name": "stdout",
          "text": [
            "Enter a number: 0\n",
            "The number is zero.\n"
          ]
        }
      ]
    },
    {
      "cell_type": "markdown",
      "source": [
        "10. write for loop code to print bumber from 1 to 10"
      ],
      "metadata": {
        "id": "shGGho-TPrqW"
      }
    },
    {
      "cell_type": "code",
      "source": [
        "# write for loop code to print bumber from 1 to 10\n",
        "\n",
        "for i in range(1, 11):\n",
        "  print(i)"
      ],
      "metadata": {
        "colab": {
          "base_uri": "https://localhost:8080/"
        },
        "id": "BKAYCELzPNeu",
        "outputId": "26ebc0d7-5b0c-4698-e30a-c6e94c8cf147"
      },
      "execution_count": 31,
      "outputs": [
        {
          "output_type": "stream",
          "name": "stdout",
          "text": [
            "1\n",
            "2\n",
            "3\n",
            "4\n",
            "5\n",
            "6\n",
            "7\n",
            "8\n",
            "9\n",
            "10\n"
          ]
        }
      ]
    },
    {
      "cell_type": "markdown",
      "source": [
        "11. program to find sum from 1 to 50"
      ],
      "metadata": {
        "id": "-ljyLmG0PxZH"
      }
    },
    {
      "cell_type": "code",
      "source": [
        "# program to find sum of values from 1 to 50:\n",
        "total = 0\n",
        "for i in range(1, 51):\n",
        "    total += i\n",
        "\n",
        "print(\"The sum of values from 1 to 50 is:\", total)"
      ],
      "metadata": {
        "colab": {
          "base_uri": "https://localhost:8080/"
        },
        "id": "jI_bY6wEP52e",
        "outputId": "89a406db-6808-4ca3-f469-220a0007f01c"
      },
      "execution_count": 32,
      "outputs": [
        {
          "output_type": "stream",
          "name": "stdout",
          "text": [
            "The sum of values from 1 to 50 is: 1275\n"
          ]
        }
      ]
    },
    {
      "cell_type": "markdown",
      "source": [
        "# Program to calculate factorial using a while loop"
      ],
      "metadata": {
        "id": "k--5UyamSOVh"
      }
    },
    {
      "cell_type": "code",
      "source": [
        "# Program to calculate factorial using a while loop\n",
        "# get input from the user:\n",
        "number = int(input(\"Enter a number: \"))\n",
        "factorial = 1\n",
        "current_number = 1\n",
        "\n",
        "while current_number <= number:\n",
        "    factorial *= current_number\n",
        "    current_number += 1\n",
        "\n",
        "print(f\"The factorial of {number} is {factorial}\")"
      ],
      "metadata": {
        "colab": {
          "base_uri": "https://localhost:8080/"
        },
        "id": "IPcZFGzESL8Y",
        "outputId": "e1a04757-de42-4a85-cde3-d510882e6fc2"
      },
      "execution_count": 34,
      "outputs": [
        {
          "output_type": "stream",
          "name": "stdout",
          "text": [
            "Enter a number: 20\n",
            "The factorial of 20 is 2432902008176640000\n"
          ]
        }
      ]
    }
  ]
}